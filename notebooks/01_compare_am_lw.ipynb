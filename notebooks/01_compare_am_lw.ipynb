{
 "cells": [
  {
   "cell_type": "code",
   "execution_count": 1,
   "metadata": {},
   "outputs": [],
   "source": [
    "import aquamonitor as am\n",
    "import labware as lw\n",
    "import matplotlib.pyplot as plt\n",
    "import pandas as pd\n",
    "\n",
    "plt.style.use(\"ggplot\")"
   ]
  },
  {
   "cell_type": "markdown",
   "metadata": {},
   "source": [
    "# Elveovervåkingsprogrammet quality control\n",
    "# Notebook 01: Compare Aquamonitor and Labware\n",
    "\n",
    "This initial notebook queries data for the previous (2017 - 2020) Elveovervåkingsprogrammet from both Labware and Aquamonitor. Values are then compared to ensure results can be matched consistently between the two databases (and that my code is converting units etc. correctly)."
   ]
  },
  {
   "cell_type": "code",
   "execution_count": 2,
   "metadata": {},
   "outputs": [
    {
     "name": "stdout",
     "output_type": "stream",
     "text": [
      "Please enter your credentials.\n"
     ]
    },
    {
     "name": "stdin",
     "output_type": "stream",
     "text": [
      "Username:  ···\n",
      "Password:  ··············\n"
     ]
    }
   ],
   "source": [
    "# Login to am\n",
    "am_token = am.login()"
   ]
  },
  {
   "cell_type": "code",
   "execution_count": 3,
   "metadata": {},
   "outputs": [
    {
     "name": "stdout",
     "output_type": "stream",
     "text": [
      "Please enter your credentials.\n"
     ]
    },
    {
     "name": "stdin",
     "output_type": "stream",
     "text": [
      "Username:  ···\n",
      "Password:  ··············\n"
     ]
    }
   ],
   "source": [
    "# Login to lw\n",
    "am.aqua_site = \"admin\"\n",
    "lw_token = am.login()\n",
    "\n",
    "# Reset am to 'AquaServices'\n",
    "am.aqua_site = \"AquaServices\""
   ]
  },
  {
   "cell_type": "markdown",
   "metadata": {},
   "source": [
    "## 1. Get historic data from Aquamonitor"
   ]
  },
  {
   "cell_type": "markdown",
   "metadata": {},
   "source": [
    "### 1.1. Find relevant project IDs"
   ]
  },
  {
   "cell_type": "code",
   "execution_count": 4,
   "metadata": {},
   "outputs": [
    {
     "data": {
      "text/html": [
       "<div>\n",
       "<style scoped>\n",
       "    .dataframe tbody tr th:only-of-type {\n",
       "        vertical-align: middle;\n",
       "    }\n",
       "\n",
       "    .dataframe tbody tr th {\n",
       "        vertical-align: top;\n",
       "    }\n",
       "\n",
       "    .dataframe thead th {\n",
       "        text-align: right;\n",
       "    }\n",
       "</style>\n",
       "<table border=\"1\" class=\"dataframe\">\n",
       "  <thead>\n",
       "    <tr style=\"text-align: right;\">\n",
       "      <th></th>\n",
       "      <th>project_id</th>\n",
       "      <th>project_code</th>\n",
       "      <th>project_name</th>\n",
       "      <th>description</th>\n",
       "    </tr>\n",
       "  </thead>\n",
       "  <tbody>\n",
       "    <tr>\n",
       "      <th>1000</th>\n",
       "      <td>10306</td>\n",
       "      <td>16384-3</td>\n",
       "      <td>Elveovervåkingsprogrammet</td>\n",
       "      <td>Etterfølgeren til RID. Overvåking av tilførsler fra elver til hav. Grunnprogrammet</td>\n",
       "    </tr>\n",
       "    <tr>\n",
       "      <th>1040</th>\n",
       "      <td>11126</td>\n",
       "      <td>16384-4</td>\n",
       "      <td>Elveoverv opsj3 2017</td>\n",
       "      <td>Opsjon 3 vannkjemisk overvåking  utv elver i 2017</td>\n",
       "    </tr>\n",
       "    <tr>\n",
       "      <th>1088</th>\n",
       "      <td>11927</td>\n",
       "      <td>16384-4</td>\n",
       "      <td>Elveoverv opsj3 2018</td>\n",
       "      <td>Opsjon 3 vannkjemisk overvåking utv elver i 2018</td>\n",
       "    </tr>\n",
       "    <tr>\n",
       "      <th>1149</th>\n",
       "      <td>12370</td>\n",
       "      <td>16384-19</td>\n",
       "      <td>Elveoverv_Flomprøver</td>\n",
       "      <td>Flomprøver på Elveoverv</td>\n",
       "    </tr>\n",
       "    <tr>\n",
       "      <th>1162</th>\n",
       "      <td>12388</td>\n",
       "      <td>NaN</td>\n",
       "      <td>Elveovervåkingen 2017</td>\n",
       "      <td>NaN</td>\n",
       "    </tr>\n",
       "    <tr>\n",
       "      <th>1169</th>\n",
       "      <td>12399</td>\n",
       "      <td>16384</td>\n",
       "      <td>Elveovervåkningen Miljøgifter 2018</td>\n",
       "      <td>Miljøgifter fisk Elveovervåkningen 2018</td>\n",
       "    </tr>\n",
       "    <tr>\n",
       "      <th>1171</th>\n",
       "      <td>12402</td>\n",
       "      <td>16384-4,190018</td>\n",
       "      <td>Elveoverv opsj3 2019</td>\n",
       "      <td>Opsjon 3 vannkjemisk overvåking utv elver i 2019</td>\n",
       "    </tr>\n",
       "    <tr>\n",
       "      <th>1199</th>\n",
       "      <td>12432</td>\n",
       "      <td>16384</td>\n",
       "      <td>Elveovervåkningen miljøgifter 2019-2020</td>\n",
       "      <td>Alna, Miljøgifter</td>\n",
       "    </tr>\n",
       "    <tr>\n",
       "      <th>1236</th>\n",
       "      <td>12475</td>\n",
       "      <td>NaN</td>\n",
       "      <td>Elveovervåking biologi 2018</td>\n",
       "      <td>NaN</td>\n",
       "    </tr>\n",
       "    <tr>\n",
       "      <th>1237</th>\n",
       "      <td>12476</td>\n",
       "      <td>NaN</td>\n",
       "      <td>Elveovervåkingen 2018</td>\n",
       "      <td>Alle stasjoner for Elveovervåkingen 2018</td>\n",
       "    </tr>\n",
       "    <tr>\n",
       "      <th>1241</th>\n",
       "      <td>12481</td>\n",
       "      <td>190018</td>\n",
       "      <td>Elveoverv opsj3 2020</td>\n",
       "      <td>Opsjon 3 vannkjemisk overvåking utv elver i 2020</td>\n",
       "    </tr>\n",
       "    <tr>\n",
       "      <th>1302</th>\n",
       "      <td>12564</td>\n",
       "      <td>200310-3</td>\n",
       "      <td>Elveovervåkings hovedelver 2021-25</td>\n",
       "      <td>Etterfølgeren til RID og O-16384-3. Overvåking av tilførsler fra elver til hav.</td>\n",
       "    </tr>\n",
       "    <tr>\n",
       "      <th>1303</th>\n",
       "      <td>12565</td>\n",
       "      <td>200311</td>\n",
       "      <td>Elveoverv bk-st 2021</td>\n",
       "      <td>Etterfølger til opsjon 3 (O-190018). Vannkjemisk overvåking utv elver i 2021</td>\n",
       "    </tr>\n",
       "  </tbody>\n",
       "</table>\n",
       "</div>"
      ],
      "text/plain": [
       "      project_id    project_code                             project_name  \\\n",
       "1000       10306         16384-3                Elveovervåkingsprogrammet   \n",
       "1040       11126         16384-4                     Elveoverv opsj3 2017   \n",
       "1088       11927         16384-4                     Elveoverv opsj3 2018   \n",
       "1149       12370        16384-19                     Elveoverv_Flomprøver   \n",
       "1162       12388             NaN                    Elveovervåkingen 2017   \n",
       "1169       12399           16384       Elveovervåkningen Miljøgifter 2018   \n",
       "1171       12402  16384-4,190018                     Elveoverv opsj3 2019   \n",
       "1199       12432           16384  Elveovervåkningen miljøgifter 2019-2020   \n",
       "1236       12475             NaN              Elveovervåking biologi 2018   \n",
       "1237       12476             NaN                    Elveovervåkingen 2018   \n",
       "1241       12481          190018                     Elveoverv opsj3 2020   \n",
       "1302       12564        200310-3       Elveovervåkings hovedelver 2021-25   \n",
       "1303       12565          200311                     Elveoverv bk-st 2021   \n",
       "\n",
       "                                                                             description  \n",
       "1000  Etterfølgeren til RID. Overvåking av tilførsler fra elver til hav. Grunnprogrammet  \n",
       "1040                                   Opsjon 3 vannkjemisk overvåking  utv elver i 2017  \n",
       "1088                                    Opsjon 3 vannkjemisk overvåking utv elver i 2018  \n",
       "1149                                                             Flomprøver på Elveoverv  \n",
       "1162                                                                                 NaN  \n",
       "1169                                             Miljøgifter fisk Elveovervåkningen 2018  \n",
       "1171                                    Opsjon 3 vannkjemisk overvåking utv elver i 2019  \n",
       "1199                                                                   Alna, Miljøgifter  \n",
       "1236                                                                                 NaN  \n",
       "1237                                            Alle stasjoner for Elveovervåkingen 2018  \n",
       "1241                                    Opsjon 3 vannkjemisk overvåking utv elver i 2020  \n",
       "1302    Etterfølgeren til RID og O-16384-3. Overvåking av tilførsler fra elver til hav.   \n",
       "1303       Etterfølger til opsjon 3 (O-190018). Vannkjemisk overvåking utv elver i 2021   "
      ]
     },
     "metadata": {},
     "output_type": "display_data"
    }
   ],
   "source": [
    "# Get all projects\n",
    "proj_df = am.get_projects(token=am_token)\n",
    "\n",
    "# Find the project code for Elveovervåkingsprogrammet\n",
    "with pd.option_context(\"display.max_colwidth\", None):\n",
    "    display(proj_df.query(\"project_name.str.contains('lveoverv')\", engine=\"python\"))"
   ]
  },
  {
   "cell_type": "markdown",
   "metadata": {},
   "source": [
    "Based on the above table:\n",
    "\n",
    " * Elveovervåkingsprogrammet 2017 - 2020 is project ID 10306 (16384-3)\n",
    " * Elveovervåkingsprogrammet 2021 - 2025 is project ID 12564 (200310-3) "
   ]
  },
  {
   "cell_type": "code",
   "execution_count": 5,
   "metadata": {},
   "outputs": [],
   "source": [
    "# Define historic project and period of interest\n",
    "his_proj_id = 10306\n",
    "st_dt = \"01.01.2017\"\n",
    "end_dt = \"31.12.2019\""
   ]
  },
  {
   "cell_type": "markdown",
   "metadata": {},
   "source": [
    "### 1.2. Get historic stations"
   ]
  },
  {
   "cell_type": "code",
   "execution_count": 6,
   "metadata": {},
   "outputs": [
    {
     "name": "stdout",
     "output_type": "stream",
     "text": [
      "22 stations in project.\n"
     ]
    },
    {
     "data": {
      "text/html": [
       "<div>\n",
       "<style scoped>\n",
       "    .dataframe tbody tr th:only-of-type {\n",
       "        vertical-align: middle;\n",
       "    }\n",
       "\n",
       "    .dataframe tbody tr th {\n",
       "        vertical-align: top;\n",
       "    }\n",
       "\n",
       "    .dataframe thead th {\n",
       "        text-align: right;\n",
       "    }\n",
       "</style>\n",
       "<table border=\"1\" class=\"dataframe\">\n",
       "  <thead>\n",
       "    <tr style=\"text-align: right;\">\n",
       "      <th></th>\n",
       "      <th>project_id</th>\n",
       "      <th>station_id</th>\n",
       "      <th>station_code</th>\n",
       "      <th>station_name</th>\n",
       "      <th>type</th>\n",
       "    </tr>\n",
       "  </thead>\n",
       "  <tbody>\n",
       "    <tr>\n",
       "      <th>0</th>\n",
       "      <td>10306</td>\n",
       "      <td>40352</td>\n",
       "      <td>BUSEDRA</td>\n",
       "      <td>Drammenselva</td>\n",
       "      <td>Elv</td>\n",
       "    </tr>\n",
       "    <tr>\n",
       "      <th>1</th>\n",
       "      <td>10306</td>\n",
       "      <td>40353</td>\n",
       "      <td>TELESKI</td>\n",
       "      <td>Skienselva</td>\n",
       "      <td>Elv</td>\n",
       "    </tr>\n",
       "    <tr>\n",
       "      <th>2</th>\n",
       "      <td>10306</td>\n",
       "      <td>40354</td>\n",
       "      <td>VAGEOTR</td>\n",
       "      <td>Otra</td>\n",
       "      <td>Elv</td>\n",
       "    </tr>\n",
       "    <tr>\n",
       "      <th>3</th>\n",
       "      <td>10306</td>\n",
       "      <td>40355</td>\n",
       "      <td>VESENUM</td>\n",
       "      <td>Numedalslågen</td>\n",
       "      <td>Elv</td>\n",
       "    </tr>\n",
       "    <tr>\n",
       "      <th>4</th>\n",
       "      <td>10306</td>\n",
       "      <td>40356</td>\n",
       "      <td>ØSTEGLO</td>\n",
       "      <td>Glomma ved Sarpsfoss</td>\n",
       "      <td>Elv</td>\n",
       "    </tr>\n",
       "  </tbody>\n",
       "</table>\n",
       "</div>"
      ],
      "text/plain": [
       "   project_id  station_id station_code          station_name type\n",
       "0       10306       40352      BUSEDRA          Drammenselva  Elv\n",
       "1       10306       40353      TELESKI            Skienselva  Elv\n",
       "2       10306       40354      VAGEOTR                  Otra  Elv\n",
       "3       10306       40355      VESENUM         Numedalslågen  Elv\n",
       "4       10306       40356      ØSTEGLO  Glomma ved Sarpsfoss  Elv"
      ]
     },
     "execution_count": 6,
     "metadata": {},
     "output_type": "execute_result"
    }
   ],
   "source": [
    "# Get stations for project\n",
    "his_stn_df = am.get_project_stations(his_proj_id, token=am_token)\n",
    "print(f\"{len(his_stn_df)} stations in project.\")\n",
    "his_stn_df.head()"
   ]
  },
  {
   "cell_type": "markdown",
   "metadata": {},
   "source": [
    "### 1.3. Get historic chemistry data"
   ]
  },
  {
   "cell_type": "code",
   "execution_count": 7,
   "metadata": {},
   "outputs": [],
   "source": [
    "# Get historic water chemsitry\n",
    "am_df = am.get_project_chemistry(his_proj_id, st_dt, end_dt, token=am_token)\n",
    "am_df.to_csv(r\"../data/rid_am_historic_data.csv\", index=False)"
   ]
  },
  {
   "cell_type": "code",
   "execution_count": 8,
   "metadata": {},
   "outputs": [
    {
     "data": {
      "text/html": [
       "<div>\n",
       "<style scoped>\n",
       "    .dataframe tbody tr th:only-of-type {\n",
       "        vertical-align: middle;\n",
       "    }\n",
       "\n",
       "    .dataframe tbody tr th {\n",
       "        vertical-align: top;\n",
       "    }\n",
       "\n",
       "    .dataframe thead th {\n",
       "        text-align: right;\n",
       "    }\n",
       "</style>\n",
       "<table border=\"1\" class=\"dataframe\">\n",
       "  <thead>\n",
       "    <tr style=\"text-align: right;\">\n",
       "      <th></th>\n",
       "      <th>project_id</th>\n",
       "      <th>project_name</th>\n",
       "      <th>station_id</th>\n",
       "      <th>station_code</th>\n",
       "      <th>station_name</th>\n",
       "      <th>sample_date</th>\n",
       "      <th>depth1</th>\n",
       "      <th>depth2</th>\n",
       "      <th>parameter</th>\n",
       "      <th>flag</th>\n",
       "      <th>value</th>\n",
       "      <th>unit</th>\n",
       "    </tr>\n",
       "  </thead>\n",
       "  <tbody>\n",
       "    <tr>\n",
       "      <th>0</th>\n",
       "      <td>10306</td>\n",
       "      <td>Elveovervåkingsprogrammet</td>\n",
       "      <td>40352</td>\n",
       "      <td>BUSEDRA</td>\n",
       "      <td>Drammenselva</td>\n",
       "      <td>2017-01-23 12:00:00</td>\n",
       "      <td>0.0</td>\n",
       "      <td>0.0</td>\n",
       "      <td>Ca</td>\n",
       "      <td>NaN</td>\n",
       "      <td>4.0</td>\n",
       "      <td>mg/L</td>\n",
       "    </tr>\n",
       "    <tr>\n",
       "      <th>1</th>\n",
       "      <td>10306</td>\n",
       "      <td>Elveovervåkingsprogrammet</td>\n",
       "      <td>40352</td>\n",
       "      <td>BUSEDRA</td>\n",
       "      <td>Drammenselva</td>\n",
       "      <td>2017-01-23 12:00:00</td>\n",
       "      <td>0.0</td>\n",
       "      <td>0.0</td>\n",
       "      <td>DOC</td>\n",
       "      <td>NaN</td>\n",
       "      <td>2.7</td>\n",
       "      <td>mg/L C</td>\n",
       "    </tr>\n",
       "    <tr>\n",
       "      <th>2</th>\n",
       "      <td>10306</td>\n",
       "      <td>Elveovervåkingsprogrammet</td>\n",
       "      <td>40352</td>\n",
       "      <td>BUSEDRA</td>\n",
       "      <td>Drammenselva</td>\n",
       "      <td>2017-01-23 12:00:00</td>\n",
       "      <td>0.0</td>\n",
       "      <td>0.0</td>\n",
       "      <td>Konduktivitet</td>\n",
       "      <td>NaN</td>\n",
       "      <td>3.5</td>\n",
       "      <td>mS/m</td>\n",
       "    </tr>\n",
       "    <tr>\n",
       "      <th>3</th>\n",
       "      <td>10306</td>\n",
       "      <td>Elveovervåkingsprogrammet</td>\n",
       "      <td>40352</td>\n",
       "      <td>BUSEDRA</td>\n",
       "      <td>Drammenselva</td>\n",
       "      <td>2017-01-23 12:00:00</td>\n",
       "      <td>0.0</td>\n",
       "      <td>0.0</td>\n",
       "      <td>Mg</td>\n",
       "      <td>NaN</td>\n",
       "      <td>0.6</td>\n",
       "      <td>mg/L</td>\n",
       "    </tr>\n",
       "    <tr>\n",
       "      <th>4</th>\n",
       "      <td>10306</td>\n",
       "      <td>Elveovervåkingsprogrammet</td>\n",
       "      <td>40352</td>\n",
       "      <td>BUSEDRA</td>\n",
       "      <td>Drammenselva</td>\n",
       "      <td>2017-01-23 12:00:00</td>\n",
       "      <td>0.0</td>\n",
       "      <td>0.0</td>\n",
       "      <td>NH4-N</td>\n",
       "      <td>NaN</td>\n",
       "      <td>8.0</td>\n",
       "      <td>µg/l</td>\n",
       "    </tr>\n",
       "  </tbody>\n",
       "</table>\n",
       "</div>"
      ],
      "text/plain": [
       "   project_id               project_name  station_id station_code  \\\n",
       "0       10306  Elveovervåkingsprogrammet       40352      BUSEDRA   \n",
       "1       10306  Elveovervåkingsprogrammet       40352      BUSEDRA   \n",
       "2       10306  Elveovervåkingsprogrammet       40352      BUSEDRA   \n",
       "3       10306  Elveovervåkingsprogrammet       40352      BUSEDRA   \n",
       "4       10306  Elveovervåkingsprogrammet       40352      BUSEDRA   \n",
       "\n",
       "   station_name         sample_date  depth1  depth2      parameter flag  \\\n",
       "0  Drammenselva 2017-01-23 12:00:00     0.0     0.0             Ca  NaN   \n",
       "1  Drammenselva 2017-01-23 12:00:00     0.0     0.0            DOC  NaN   \n",
       "2  Drammenselva 2017-01-23 12:00:00     0.0     0.0  Konduktivitet  NaN   \n",
       "3  Drammenselva 2017-01-23 12:00:00     0.0     0.0             Mg  NaN   \n",
       "4  Drammenselva 2017-01-23 12:00:00     0.0     0.0          NH4-N  NaN   \n",
       "\n",
       "   value    unit  \n",
       "0    4.0    mg/L  \n",
       "1    2.7  mg/L C  \n",
       "2    3.5    mS/m  \n",
       "3    0.6    mg/L  \n",
       "4    8.0    µg/l  "
      ]
     },
     "execution_count": 8,
     "metadata": {},
     "output_type": "execute_result"
    }
   ],
   "source": [
    "# Read previously saved data for speed\n",
    "am_df = pd.read_csv(r\"../data/rid_am_historic_data.csv\")\n",
    "am_df[\"sample_date\"] = pd.to_datetime(am_df[\"sample_date\"]).dt.tz_localize(None)\n",
    "am_df.rename({\"parameter_name\": \"parameter\"}, axis=\"columns\", inplace=True)\n",
    "\n",
    "am_df.head()"
   ]
  },
  {
   "cell_type": "markdown",
   "metadata": {},
   "source": [
    "## 2. Get historic data from Labware"
   ]
  },
  {
   "cell_type": "markdown",
   "metadata": {},
   "source": [
    "### 2.1. Get Labware projects associated with \"main\" project"
   ]
  },
  {
   "cell_type": "code",
   "execution_count": 9,
   "metadata": {},
   "outputs": [],
   "source": [
    "# Define future project and year of interest\n",
    "fut_proj_id = \"16384;3\"\n",
    "fut_yr = 2020"
   ]
  },
  {
   "cell_type": "code",
   "execution_count": 10,
   "metadata": {},
   "outputs": [
    {
     "data": {
      "text/html": [
       "<div>\n",
       "<style scoped>\n",
       "    .dataframe tbody tr th:only-of-type {\n",
       "        vertical-align: middle;\n",
       "    }\n",
       "\n",
       "    .dataframe tbody tr th {\n",
       "        vertical-align: top;\n",
       "    }\n",
       "\n",
       "    .dataframe thead th {\n",
       "        text-align: right;\n",
       "    }\n",
       "</style>\n",
       "<table border=\"1\" class=\"dataframe\">\n",
       "  <thead>\n",
       "    <tr style=\"text-align: right;\">\n",
       "      <th></th>\n",
       "      <th>name</th>\n",
       "      <th>status</th>\n",
       "      <th>closed</th>\n",
       "    </tr>\n",
       "  </thead>\n",
       "  <tbody>\n",
       "    <tr>\n",
       "      <th>0</th>\n",
       "      <td>507-9322</td>\n",
       "      <td>V</td>\n",
       "      <td>True</td>\n",
       "    </tr>\n",
       "    <tr>\n",
       "      <th>1</th>\n",
       "      <td>507-9366</td>\n",
       "      <td>V</td>\n",
       "      <td>True</td>\n",
       "    </tr>\n",
       "    <tr>\n",
       "      <th>2</th>\n",
       "      <td>507-9199</td>\n",
       "      <td>V</td>\n",
       "      <td>True</td>\n",
       "    </tr>\n",
       "    <tr>\n",
       "      <th>3</th>\n",
       "      <td>507-8436</td>\n",
       "      <td>V</td>\n",
       "      <td>True</td>\n",
       "    </tr>\n",
       "    <tr>\n",
       "      <th>4</th>\n",
       "      <td>507-8437</td>\n",
       "      <td>V</td>\n",
       "      <td>True</td>\n",
       "    </tr>\n",
       "  </tbody>\n",
       "</table>\n",
       "</div>"
      ],
      "text/plain": [
       "       name status  closed\n",
       "0  507-9322      V    True\n",
       "1  507-9366      V    True\n",
       "2  507-9199      V    True\n",
       "3  507-8436      V    True\n",
       "4  507-8437      V    True"
      ]
     },
     "execution_count": 10,
     "metadata": {},
     "output_type": "execute_result"
    }
   ],
   "source": [
    "# Get Labware projects\n",
    "proj_df = lw.get_labware_projects(lw_token, fut_proj_id)\n",
    "proj_df.head()"
   ]
  },
  {
   "cell_type": "markdown",
   "metadata": {},
   "source": [
    "### 2.2. Get all samples for Labware projects "
   ]
  },
  {
   "cell_type": "code",
   "execution_count": null,
   "metadata": {},
   "outputs": [],
   "source": [
    "# Get Labware samples\n",
    "samp_df = lw.get_labware_project_samples(lw_token, proj_df[\"name\"])\n",
    "samp_df.head()"
   ]
  },
  {
   "cell_type": "markdown",
   "metadata": {},
   "source": [
    "### 2.3. Get results for Labware samples"
   ]
  },
  {
   "cell_type": "code",
   "execution_count": null,
   "metadata": {},
   "outputs": [],
   "source": [
    "# Get results for Labware samples\n",
    "res_df = lw.get_labware_sample_results(lw_token, samp_df[\"sampleNumber\"])\n",
    "res_df.head()"
   ]
  },
  {
   "cell_type": "markdown",
   "metadata": {},
   "source": [
    "### 2.4. Tidy Labware data"
   ]
  },
  {
   "cell_type": "code",
   "execution_count": null,
   "metadata": {},
   "outputs": [],
   "source": [
    "# Tidy\n",
    "samp_df2 = samp_df[\n",
    "    [\n",
    "        \"sampleNumber\",\n",
    "        \"station_id\",\n",
    "        \"station_name\",\n",
    "        \"station_type\",\n",
    "        \"sampledDate\",\n",
    "        \"sampleDepthUpper\",\n",
    "        \"sampleDepthLower\",\n",
    "    ]\n",
    "]\n",
    "\n",
    "samp_df2.columns = [\n",
    "    \"sample_id\",\n",
    "    \"station_id\",\n",
    "    \"station_name\",\n",
    "    \"station_type\",\n",
    "    \"sample_date\",\n",
    "    \"depth1\",\n",
    "    \"depth2\",\n",
    "]\n",
    "\n",
    "res_df[\"test.anaFraction\"].replace(\n",
    "    {\n",
    "        None: \"\",\n",
    "        \"Partikulært\": \"-part\",\n",
    "        \"Filtrert\": \"-filt\",\n",
    "    },\n",
    "    inplace=True,\n",
    ")\n",
    "res_df[\"name\"] = res_df[\"name\"] + res_df[\"test.anaFraction\"]\n",
    "res_df2 = res_df[[\"sample_id\", \"name\", \"status\", \"loq\", \"numericEntry\", \"units\"]]\n",
    "res_df2.columns = [\"sample_id\", \"parameter\", \"status\", \"loq\", \"value\", \"units\"]\n",
    "\n",
    "# Join\n",
    "lw_df = pd.merge(res_df2, samp_df2, how=\"left\", on=\"sample_id\")\n",
    "\n",
    "# Add verbose status codes\n",
    "res_status = pd.read_csv(\"../data/labware_result_status_codes.csv\", sep=\";\")\n",
    "lw_df = pd.merge(lw_df, res_status, how=\"left\", on=\"status\")\n",
    "del lw_df[\"status\"]\n",
    "lw_df.rename({\"description\": \"status\"}, axis=\"columns\", inplace=True)\n",
    "\n",
    "# Tidy\n",
    "lw_df = lw_df[\n",
    "    [\n",
    "        \"sample_id\",\n",
    "        \"station_id\",\n",
    "        \"station_name\",\n",
    "        \"station_type\",\n",
    "        \"sample_date\",\n",
    "        \"depth1\",\n",
    "        \"depth2\",\n",
    "        \"parameter\",\n",
    "        \"status\",\n",
    "        \"loq\",\n",
    "        \"value\",\n",
    "        \"units\",\n",
    "    ]\n",
    "]\n",
    "\n",
    "# # Get only surface samples\n",
    "# lw_df = lw_df.query(\"(depth1==0) and (depth2==0)\")\n",
    "# del lw_df[\"depth1\"], lw_df[\"depth2\"]\n",
    "\n",
    "# Drop duplicates\n",
    "lw_df.drop_duplicates(inplace=True)\n",
    "\n",
    "# Remove strange results where station ID is NaN and sample date is '0001-01-01'\n",
    "lw_df = lw_df.query(\"station_id == station_id\")\n",
    "\n",
    "lw_df[\"sample_date\"] = pd.to_datetime(lw_df[\"sample_date\"])\n",
    "\n",
    "# Save\n",
    "lw_df.to_csv(r\"../data/rid_labware_historic_data.csv\", index=False)"
   ]
  },
  {
   "cell_type": "code",
   "execution_count": null,
   "metadata": {},
   "outputs": [],
   "source": [
    "# Read previously saved data for speed\n",
    "lw_df = pd.read_csv(r\"../data/rid_labware_historic_data.csv\")\n",
    "lw_df[\"sample_date\"] = pd.to_datetime(lw_df[\"sample_date\"])\n",
    "\n",
    "# # Get just data for the period of interest\n",
    "# lw_df = lw_df[lw_df[\"sample_date\"].dt.year == fut_yr]\n",
    "\n",
    "lw_df.head()"
   ]
  },
  {
   "cell_type": "markdown",
   "metadata": {},
   "source": [
    "## 3. Link AM and Labware datasets\n",
    "\n",
    "The file `../data/lw_am_par_map.csv` was generated using the following SQL in Nivabasen\n",
    "\n",
    "    SELECT a.name         AS lw_meth,\n",
    "      a.unit              AS lw_unit,\n",
    "      b.name              AS am_par,\n",
    "      b.unit              AS am_unit,\n",
    "      c.conversion_factor AS lw2am_fac\n",
    "    FROM NIVADATABASE.METHOD_DEFINITIONS a,\n",
    "      NIVADATABASE.WC_PARAMETER_DEFINITIONS b,\n",
    "      NIVADATABASE.WC_PARAMETERS_METHODS c\n",
    "    WHERE a.method_id  = c.METHOD_ID\n",
    "    AND c.PARAMETER_ID = b.PARAMETER_ID\n",
    "    ORDER BY a.name;"
   ]
  },
  {
   "cell_type": "code",
   "execution_count": null,
   "metadata": {},
   "outputs": [],
   "source": [
    "# Lookup matching Labware and AM pars\n",
    "par_map = pd.read_csv(r\"../data/lw_am_par_map.csv\", sep=\";\", decimal=\",\")\n",
    "par_map.head()"
   ]
  },
  {
   "cell_type": "code",
   "execution_count": null,
   "metadata": {},
   "outputs": [],
   "source": [
    "# Join AM par names\n",
    "lw_df = pd.merge(\n",
    "    lw_df,\n",
    "    par_map,\n",
    "    left_on=[\"parameter\", \"units\"],\n",
    "    right_on=[\"lw_meth\", \"lw_unit\"],\n",
    "    how=\"left\",\n",
    ")\n",
    "\n",
    "# Convert units\n",
    "lw_df[\"value\"] = lw_df[\"value\"] * lw_df[\"lw2am_fac\"]\n",
    "\n",
    "cols = [\n",
    "    \"sample_id\",\n",
    "    \"station_id\",\n",
    "    \"station_name\",\n",
    "    \"station_type\",\n",
    "    \"sample_date\",\n",
    "    \"depth1\",\n",
    "    \"depth2\",\n",
    "    \"am_par\",\n",
    "    \"status\",\n",
    "    \"value\",\n",
    "    \"am_unit\",\n",
    "]\n",
    "lw_df = lw_df[cols]\n",
    "\n",
    "# Drop NaNs and duplicates\n",
    "lw_df = lw_df.query(\"am_par == am_par\")\n",
    "# lw_df.drop_duplicates(subset=cols, inplace=True)\n",
    "\n",
    "# # Get just 'authorised' samples\n",
    "lw_df = lw_df.query(\"status == 'Authorised'\")\n",
    "\n",
    "# Tidy\n",
    "lw_df.rename(\n",
    "    {\n",
    "        \"am_par\": \"parameter\",\n",
    "        \"am_unit\": \"unit\",\n",
    "    },\n",
    "    inplace=True,\n",
    "    axis=\"columns\",\n",
    ")\n",
    "lw_df = lw_df[\n",
    "    [\"station_id\", \"sample_date\", \"depth1\", \"depth2\", \"status\", \"parameter\", \"value\"]\n",
    "]\n",
    "\n",
    "# Standardise dates\n",
    "am_df[\"sample_date\"] = am_df[\"sample_date\"].dt.date\n",
    "lw_df[\"sample_date\"] = lw_df[\"sample_date\"].dt.date\n",
    "\n",
    "# Join\n",
    "df = pd.merge(\n",
    "    am_df,\n",
    "    lw_df,\n",
    "    how=\"inner\",\n",
    "    on=[\"station_id\", \"sample_date\", \"depth1\", \"depth2\", \"parameter\"],\n",
    "    suffixes=[\"_am\", \"_lw\"],\n",
    ")"
   ]
  },
  {
   "cell_type": "markdown",
   "metadata": {},
   "source": [
    "## 4. Compare values"
   ]
  },
  {
   "cell_type": "code",
   "execution_count": null,
   "metadata": {},
   "outputs": [],
   "source": [
    "# Plot\n",
    "fig = plt.figure(figsize=(10, 10))\n",
    "plt.plot(df[\"value_am\"], df[\"value_lw\"], \"ro\")\n",
    "plt.plot(df[\"value_am\"], df[\"value_am\"], \"k-\")\n",
    "plt.xlabel(\"Value in Aquamonitor\")\n",
    "plt.ylabel(\"Value in Labware\")"
   ]
  }
 ],
 "metadata": {
  "kernelspec": {
   "display_name": "Python 3",
   "language": "python",
   "name": "python3"
  },
  "language_info": {
   "codemirror_mode": {
    "name": "ipython",
    "version": 3
   },
   "file_extension": ".py",
   "mimetype": "text/x-python",
   "name": "python",
   "nbconvert_exporter": "python",
   "pygments_lexer": "ipython3",
   "version": "3.8.6"
  }
 },
 "nbformat": 4,
 "nbformat_minor": 4
}
